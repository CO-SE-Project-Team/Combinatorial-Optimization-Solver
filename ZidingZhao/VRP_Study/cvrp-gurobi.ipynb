{
 "cells": [
  {
   "cell_type": "markdown",
   "metadata": {},
   "source": [
    "# Capacitated Vehicle Routing Problem\n",
    "\n",
    "<img src=\"http://neo.lcc.uma.es/dynamic/images/vrp.png\" width=\"400\" />\n",
    "\n",
    "- $n$ is the number of clientes\n",
    "- $N$ is set of clients, with $N=\\{1,2,...,n\\}$\n",
    "- $V$ is set of vetices (or nodes), with $V=\\{0\\}\\cup N$\n",
    "- $A$ is set of arcs, with $A=\\{(i,j)\\in V^2 : i\\neq j\\}$\n",
    "- $c_{ij}$ is cost of travel over arc $(i,j)\\in A$\n",
    "- $Q$ is the vehicle capacity\n",
    "- $q_i$ is the amount that has to be delivered to customer $i\\in N$\n",
    "\n",
    "Then, the formulation is the following\n",
    "$$\\begin{align}\n",
    "\\min \\quad & \\sum_{i,j\\in A} c_{ij} x_{ij} \\\\\n",
    "\\text{s.t.} \\quad & \\sum_{j\\in V , j\\neq i} x_{ij} = 1  && i \\in N \\\\\n",
    "& \\sum_{i\\in V , i\\neq j} x_{ij} = 1 && j \\in N \\\\\n",
    "& \\text{if} \\ x_{ij}=1 \\ \\Rightarrow \\ u_i + q_j = u_j && i,j \\in A : j\\neq 0, i\\neq 0 \\\\\n",
    "& q_i \\leq u_i \\leq Q && i \\in N \\\\\n",
    "& x_{ij} \\in \\{0,1\\} && i,j \\in A\n",
    "\\end{align}$$"
   ]
  },
  {
   "cell_type": "code",
   "execution_count": 11,
   "metadata": {},
   "outputs": [],
   "source": [
    "import numpy as np\n",
    "import matplotlib.pyplot as plt"
   ]
  },
  {
   "cell_type": "code",
   "execution_count": 12,
   "metadata": {},
   "outputs": [],
   "source": [
    "rnd = np.random\n",
    "rnd.seed(0)"
   ]
  },
  {
   "cell_type": "code",
   "execution_count": 13,
   "metadata": {},
   "outputs": [],
   "source": [
    "n = 20  # number of clients\n",
    "xc = rnd.rand(n+1)*200\n",
    "yc = rnd.rand(n+1)*100"
   ]
  },
  {
   "cell_type": "code",
   "execution_count": 14,
   "metadata": {},
   "outputs": [
    {
     "data": {
      "text/plain": [
       "<matplotlib.collections.PathCollection at 0x1dc36ad94c0>"
      ]
     },
     "execution_count": 14,
     "metadata": {},
     "output_type": "execute_result"
    },
    {
     "data": {
      "image/png": "[encoded data removed]",
      "text/plain": [
       "<Figure size 432x288 with 1 Axes>"
      ]
     },
     "metadata": {
      "needs_background": "light"
     },
     "output_type": "display_data"
    }
   ],
   "source": [
    "plt.plot(xc[0], yc[0], c='r', marker='s')\n",
    "plt.scatter(xc[1:], yc[1:], c='b')"
   ]
  },
  {
   "cell_type": "code",
   "execution_count": 15,
   "metadata": {},
   "outputs": [],
   "source": [
    "N = [i for i in range(1, n+1)]\n",
    "V = [0] + N\n",
    "A = [(i, j) for i in V for j in V if i != j]\n",
    "c = {(i, j): np.hypot(xc[i]-xc[j], yc[i]-yc[j]) for i, j in A}\n",
    "Q = 20\n",
    "q = {i: rnd.randint(1, 10) for i in N}"
   ]
  },
  {
   "cell_type": "code",
   "execution_count": 16,
   "metadata": {},
   "outputs": [],
   "source": [
    "from gurobipy import Model, GRB, quicksum"
   ]
  },
  {
   "cell_type": "code",
   "execution_count": 17,
   "metadata": {},
   "outputs": [],
   "source": [
    "mdl = Model('CVRP')"
   ]
  },
  {
   "cell_type": "code",
   "execution_count": 18,
   "metadata": {},
   "outputs": [],
   "source": [
    "x = mdl.addVars(A, vtype=GRB.BINARY)\n",
    "u = mdl.addVars(N, vtype=GRB.CONTINUOUS)"
   ]
  },
  {
   "cell_type": "code",
   "execution_count": 32,
   "metadata": {},
   "outputs": [],
   "source": [
    "mdl.modelSense = GRB.MINIMIZE\n",
    "mdl.setObjective(quicksum(x[i, j]*c[i, j] for (i, j) in A))"
   ]
  },
  {
   "cell_type": "code",
   "execution_count": 33,
   "metadata": {},
   "outputs": [
    {
     "data": {
      "text/plain": [
       "{1: <gurobi.Constr *Awaiting Model Update*>,\n",
       " 2: <gurobi.Constr *Awaiting Model Update*>,\n",
       " 3: <gurobi.Constr *Awaiting Model Update*>,\n",
       " 4: <gurobi.Constr *Awaiting Model Update*>,\n",
       " 5: <gurobi.Constr *Awaiting Model Update*>,\n",
       " 6: <gurobi.Constr *Awaiting Model Update*>,\n",
       " 7: <gurobi.Constr *Awaiting Model Update*>,\n",
       " 8: <gurobi.Constr *Awaiting Model Update*>,\n",
       " 9: <gurobi.Constr *Awaiting Model Update*>,\n",
       " 10: <gurobi.Constr *Awaiting Model Update*>,\n",
       " 11: <gurobi.Constr *Awaiting Model Update*>,\n",
       " 12: <gurobi.Constr *Awaiting Model Update*>,\n",
       " 13: <gurobi.Constr *Awaiting Model Update*>,\n",
       " 14: <gurobi.Constr *Awaiting Model Update*>,\n",
       " 15: <gurobi.Constr *Awaiting Model Update*>,\n",
       " 16: <gurobi.Constr *Awaiting Model Update*>,\n",
       " 17: <gurobi.Constr *Awaiting Model Update*>,\n",
       " 18: <gurobi.Constr *Awaiting Model Update*>,\n",
       " 19: <gurobi.Constr *Awaiting Model Update*>,\n",
       " 20: <gurobi.Constr *Awaiting Model Update*>}"
      ]
     },
     "execution_count": 33,
     "metadata": {},
     "output_type": "execute_result"
    }
   ],
   "source": [
    "mdl.addConstrs(quicksum(x[i, j] for j in V if j != i) == 1 for i in N)\n",
    "mdl.addConstrs(quicksum(x[i, j] for i in V if i != j) == 1 for j in N)\n",
    "mdl.addConstrs((x[i, j] == 1) >> (u[i]+q[j] == u[j])\n",
    "               for i, j in A if i != 0 and j != 0)\n",
    "mdl.addConstrs(u[i] >= q[i] for i in N)\n",
    "mdl.addConstrs(u[i] <= Q for i in N)"
   ]
  },
  {
   "cell_type": "code",
   "execution_count": 34,
   "metadata": {
    "scrolled": false
   },
   "outputs": [
    {
     "name": "stdout",
     "output_type": "stream",
     "text": [
      "Set parameter TimeLimit to value 1\n",
      "Gurobi Optimizer version 9.5.1 build v9.5.1rc2 (win64)\n",
      "Thread count: 4 physical cores, 8 logical processors, using up to 8 threads\n",
      "Optimize a model with 160 rows, 440 columns and 1680 nonzeros\n",
      "Model fingerprint: 0x1e7b0a9f\n",
      "Model has 760 general constraints\n",
      "Variable types: 20 continuous, 420 integer (420 binary)\n",
      "Coefficient statistics:\n",
      "  Matrix range     [1e+00, 1e+00]\n",
      "  Objective range  [3e+00, 2e+02]\n",
      "  Bounds range     [1e+00, 1e+00]\n",
      "  RHS range        [1e+00, 2e+01]\n",
      "  GenCon rhs range [1e+00, 9e+00]\n",
      "  GenCon coe range [1e+00, 1e+00]\n",
      "\n",
      "MIP start from previous solve produced solution with objective 926.685 (0.02s)\n",
      "Loaded MIP start from previous solve with objective 926.685\n",
      "\n",
      "Presolve added 654 rows and 102 columns\n",
      "Presolve time: 0.06s\n",
      "Presolved: 814 rows, 542 columns, 5618 nonzeros\n",
      "Variable types: 122 continuous, 420 integer (420 binary)\n",
      "\n",
      "Root relaxation: objective 4.516618e+02, 88 iterations, 0.00 seconds (0.00 work units)\n",
      "\n",
      "    Nodes    |    Current Node    |     Objective Bounds      |     Work\n",
      " Expl Unexpl |  Obj  Depth IntInf | Incumbent    BestBd   Gap | It/Node Time\n",
      "\n",
      "     0     0  451.66183    0   38  926.68482  451.66183  51.3%     -    0s\n",
      "     0     0  464.19256    0   41  926.68482  464.19256  49.9%     -    0s\n",
      "     0     0  468.55783    0   45  926.68482  468.55783  49.4%     -    0s\n",
      "     0     0  469.55809    0   47  926.68482  469.55809  49.3%     -    0s\n",
      "     0     0  480.82227    0   41  926.68482  480.82227  48.1%     -    0s\n",
      "     0     0  480.82227    0   41  926.68482  480.82227  48.1%     -    0s\n",
      "     0     0  481.72633    0   40  926.68482  481.72633  48.0%     -    0s\n",
      "     0     0  481.72633    0   40  926.68482  481.72633  48.0%     -    0s\n",
      "     0     0  481.72633    0   40  926.68482  481.72633  48.0%     -    0s\n",
      "     0     0  481.72633    0   40  926.68482  481.72633  48.0%     -    0s\n",
      "     0     0  481.72633    0   40  926.68482  481.72633  48.0%     -    0s\n",
      "     0     2  545.47499    0   40  926.68482  545.47499  41.1%     -    0s\n",
      "\n",
      "Cutting planes:\n",
      "  Learned: 1\n",
      "  Gomory: 7\n",
      "  Cover: 6\n",
      "  Implied bound: 23\n",
      "  MIR: 20\n",
      "  StrongCG: 1\n",
      "  Zero half: 7\n",
      "  Relax-and-lift: 20\n",
      "\n",
      "Explored 627 nodes (12157 simplex iterations) in 1.01 seconds (0.96 work units)\n",
      "Thread count was 8 (of 8 available processors)\n",
      "\n",
      "Solution count 1: 926.685 \n",
      "\n",
      "Time limit reached\n",
      "Best objective 9.266848169794e+02, best bound 5.894566896730e+02, gap 36.3908%\n"
     ]
    }
   ],
   "source": [
    "mdl.Params.MIPGap = 0.1\n",
    "mdl.Params.TimeLimit = 1  # seconds\n",
    "mdl.optimize()"
   ]
  },
  {
   "cell_type": "code",
   "execution_count": 35,
   "metadata": {},
   "outputs": [],
   "source": [
    "active_arcs = [a for a in A if x[a].x > 0.99]"
   ]
  },
  {
   "cell_type": "code",
   "execution_count": 36,
   "metadata": {},
   "outputs": [
    {
     "data": {
      "text/plain": [
       "<matplotlib.collections.PathCollection at 0x1dc37f55df0>"
      ]
     },
     "execution_count": 36,
     "metadata": {},
     "output_type": "execute_result"
    },
    {
     "data": {
      "image/png": "[encoded data removed]",
      "text/plain": [
       "<Figure size 432x288 with 1 Axes>"
      ]
     },
     "metadata": {
      "needs_background": "light"
     },
     "output_type": "display_data"
    }
   ],
   "source": [
    "for i, j in active_arcs:\n",
    "    plt.plot([xc[i], xc[j]], [yc[i], yc[j]], c='g', zorder=0)\n",
    "plt.plot(xc[0], yc[0], c='r', marker='s')\n",
    "plt.scatter(xc[1:], yc[1:], c='b')"
   ]
  }
 ],
 "metadata": {
  "kernelspec": {
   "display_name": "Python 3",
   "language": "python",
   "name": "python3"
  },
  "language_info": {
   "codemirror_mode": {
    "name": "ipython",
    "version": 3
   },
   "file_extension": ".py",
   "mimetype": "text/x-python",
   "name": "python",
   "nbconvert_exporter": "python",
   "pygments_lexer": "ipython3",
   "version": "3.9.7"
  }
 },
 "nbformat": 4,
 "nbformat_minor": 2
}
